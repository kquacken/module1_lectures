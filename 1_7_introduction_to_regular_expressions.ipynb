{
  "cells": [
    {
      "cell_type": "markdown",
      "metadata": {
        "id": "view-in-github",
        "colab_type": "text"
      },
      "source": [
        "<a href=\"https://colab.research.google.com/github/kquacken/module1_lectures/blob/main/1_7_introduction_to_regular_expressions.ipynb\" target=\"_parent\"><img src=\"https://colab.research.google.com/assets/colab-badge.svg\" alt=\"Open In Colab\"/></a>"
      ]
    },
    {
      "cell_type": "markdown",
      "metadata": {
        "id": "y7nYai514OZ5"
      },
      "source": [
        "## Regular Expressions\n",
        "\n",
        "<img src=\"https://imgs.xkcd.com/comics/regular_expressions.png \" width=400>"
      ]
    },
    {
      "cell_type": "markdown",
      "metadata": {
        "id": "fwPq4Akn4OZ8"
      },
      "source": [
        "## RegEx Golf\n",
        "\n",
        "<img src=\"https://imgs.xkcd.com/comics/regex_golf.png\" width=600>"
      ]
    },
    {
      "cell_type": "markdown",
      "metadata": {
        "id": "Pav_kC_Y4OZ-"
      },
      "source": [
        "## Perl Problems\n",
        "\n",
        "    Some people, when confronted with a problem, think \"I know, I'll use regular expressions.\" Now they have two problems. - Jamie Zawinski \n",
        "<img src=\"https://imgs.xkcd.com/comics/perl_problems.png\" width=600>"
      ]
    },
    {
      "cell_type": "markdown",
      "metadata": {
        "id": "NqW25zmh4OZ_"
      },
      "source": [
        "## <font color=\"red\"> Exercise 1 </font>\n",
        "\n",
        "**Question:** What do all of these strings have in common?\n",
        "\n",
        "* `\"ab\"`\n",
        "* `\"abab\"`\n",
        "* `\"ababcde\"`\n",
        "* `\"abcde\"`"
      ]
    },
    {
      "cell_type": "markdown",
      "metadata": {
        "id": "KdbbPuI74OZ_"
      },
      "source": [
        "> ab"
      ]
    },
    {
      "cell_type": "markdown",
      "metadata": {
        "id": "4r6Dq8Oq4OaA"
      },
      "source": [
        "## <font color=\"red\"> Exercise 2 </font>\n",
        "\n",
        "**Task:** Predict the next three elements of the sequence.\n",
        "\n",
        "* `\"0\"`\n",
        "* `\"1ab\"`\n",
        "* `\"2abab\"`\n",
        "* `\"3ababab\"`\n"
      ]
    },
    {
      "cell_type": "markdown",
      "metadata": {
        "id": "24FPaBFl4OaA"
      },
      "source": [
        "> 4abababab\n",
        "5ababababab\n",
        "6abababababab"
      ]
    },
    {
      "cell_type": "markdown",
      "metadata": {
        "id": "7mJF02A14OaA"
      },
      "source": [
        "## What is a regular expression\n",
        "\n",
        "* Language for matching regular patterns\n",
        "    * `\"ab\"`\n",
        "    * `\"abab\"`\n",
        "    * `\"ababcde\"`\n",
        "    * `\"abcde\"`\n",
        "* Can't match other, context sensitive, patterns\n",
        "    * `\"0\"`\n",
        "    * `\"1ab\"`\n",
        "    * `\"2abab\"`\n",
        "    * `\"3ababab\"`"
      ]
    },
    {
      "cell_type": "markdown",
      "metadata": {
        "id": "sRgMPwAm4OaB"
      },
      "source": [
        "## <font color=\"red\"> Exercise 3 </font>\n",
        "\n",
        "**Tasks:** \n",
        "\n",
        "1. Go to [RegexOne](https://regexone.com/)\n",
        "2. Read the first section\n",
        "3. Define a pattern that matches the first three strings."
      ]
    },
    {
      "cell_type": "code",
      "execution_count": 10,
      "metadata": {
        "id": "IsLpOgyx4OaC"
      },
      "outputs": [],
      "source": [
        "pattern1 = \"abc\""
      ]
    },
    {
      "cell_type": "markdown",
      "metadata": {
        "id": "v9ODSDxg4OaD"
      },
      "source": [
        "## Regular Expressions Workflow in Python\n",
        "\n",
        "* `import re`\n",
        "* Compile a pattern `regex = re.compile(pattern)`\n",
        "    * Use `r\"pattern\"` to avoid escaping symbols\n",
        "* `m = regex.match(some_string)`"
      ]
    },
    {
      "cell_type": "code",
      "execution_count": 5,
      "metadata": {
        "id": "K7r3W2Wk4OaD"
      },
      "outputs": [],
      "source": [
        "import re"
      ]
    },
    {
      "cell_type": "code",
      "execution_count": 3,
      "metadata": {
        "colab": {
          "base_uri": "https://localhost:8080/"
        },
        "id": "bl6dAwFK4OaE",
        "outputId": "fb595aca-24a7-4503-e21e-9d387868217f"
      },
      "outputs": [
        {
          "output_type": "execute_result",
          "data": {
            "text/plain": [
              "<re.Match object; span=(0, 2), match='ab'>"
            ]
          },
          "metadata": {},
          "execution_count": 3
        }
      ],
      "source": [
        "pattern = r\"ab\" # r is for raw\n",
        "regex = re.compile(pattern) #definem and compile\n",
        "m1 = regex.match('abc') #saving output saying they match\n",
        "m1"
      ]
    },
    {
      "cell_type": "markdown",
      "metadata": {
        "id": "M8hVUNmC4OaF"
      },
      "source": [
        "## `match` returns `None` when there is no match"
      ]
    },
    {
      "cell_type": "code",
      "execution_count": 4,
      "metadata": {
        "id": "JKCajvvF4OaF"
      },
      "outputs": [],
      "source": [
        "m2 = regex.match('acb')\n",
        "m2"
      ]
    },
    {
      "cell_type": "code",
      "execution_count": 5,
      "metadata": {
        "colab": {
          "base_uri": "https://localhost:8080/"
        },
        "id": "eLOluc8S4OaF",
        "outputId": "27b2f65a-b33f-47eb-8582-ce6cec80059e"
      },
      "outputs": [
        {
          "output_type": "execute_result",
          "data": {
            "text/plain": [
              "True"
            ]
          },
          "metadata": {},
          "execution_count": 5
        }
      ],
      "source": [
        "m2 is None"
      ]
    },
    {
      "cell_type": "code",
      "execution_count": 6,
      "metadata": {
        "colab": {
          "base_uri": "https://localhost:8080/"
        },
        "id": "kRXvqT_D4OaG",
        "outputId": "06ff3584-ebe0-4115-d7b0-cff32c8a7ba1"
      },
      "outputs": [
        {
          "output_type": "execute_result",
          "data": {
            "text/plain": [
              "True"
            ]
          },
          "metadata": {},
          "execution_count": 6
        }
      ],
      "source": [
        "not m2 "
      ]
    },
    {
      "cell_type": "markdown",
      "metadata": {
        "id": "SH5D_7ut4OaG"
      },
      "source": [
        "## The result of a match can be used in Boolean expressions"
      ]
    },
    {
      "cell_type": "code",
      "execution_count": 7,
      "metadata": {
        "colab": {
          "base_uri": "https://localhost:8080/",
          "height": 35
        },
        "id": "swABjJGE4OaH",
        "outputId": "8ffe5b04-bf7a-486f-ff88-18c215b7c0a4"
      },
      "outputs": [
        {
          "output_type": "execute_result",
          "data": {
            "text/plain": [
              "'Yes'"
            ],
            "application/vnd.google.colaboratory.intrinsic+json": {
              "type": "string"
            }
          },
          "metadata": {},
          "execution_count": 7
        }
      ],
      "source": [
        "\"Yes\" if m1 else \"No\""
      ]
    },
    {
      "cell_type": "code",
      "execution_count": 8,
      "metadata": {
        "colab": {
          "base_uri": "https://localhost:8080/",
          "height": 35
        },
        "id": "ys5QRYld4OaH",
        "outputId": "d5b951fe-ca25-45da-a4da-6b18e385ead4"
      },
      "outputs": [
        {
          "output_type": "execute_result",
          "data": {
            "text/plain": [
              "'No'"
            ],
            "application/vnd.google.colaboratory.intrinsic+json": {
              "type": "string"
            }
          },
          "metadata": {},
          "execution_count": 8
        }
      ],
      "source": [
        "\"Yes\" if m2 else \"No\""
      ]
    },
    {
      "cell_type": "markdown",
      "metadata": {
        "id": "kV_nzM__4OaH"
      },
      "source": [
        "## <font color=\"red\"> Exercise 4 </font>\n",
        "\n",
        "**Tasks:** Make sure your pattern from <font color=\"red\"> Exercise 3</font> passes the following `assert` statements."
      ]
    },
    {
      "cell_type": "code",
      "execution_count": 13,
      "metadata": {
        "id": "A-VvmOPP4OaI"
      },
      "outputs": [],
      "source": [
        "pattern1 = \"abc\"\n",
        "my_regex = re.compile(pattern1)\n",
        "assert my_regex.match('abcdefg')\n",
        "assert my_regex.match('abcde')\n",
        "assert my_regex.match('abc')\n",
        "assert not my_regex.match('acb')"
      ]
    },
    {
      "cell_type": "code",
      "source": [
        "pattern1 = r\"\\d\"\n",
        "my_regex = re.compile(pattern1)\n",
        "assert my_regex.search('abc123xyz')\n",
        "assert my_regex.search('define \"123\"')\n",
        "assert my_regex.search('var g = 123;')\n",
        "#assert not my_regex.match('acb')"
      ],
      "metadata": {
        "id": "43-rJDRi7zKD"
      },
      "execution_count": 53,
      "outputs": []
    },
    {
      "cell_type": "code",
      "source": [
        "pattern1 = r\"...\\.\"\n",
        "my_regex = re.compile(pattern1)\n",
        "assert my_regex.search('cat.')\n",
        "assert my_regex.search('896.')\n",
        "assert my_regex.search('?=+.')\n",
        "assert not my_regex.match('abc1')"
      ],
      "metadata": {
        "id": "f_F3YsLZ-G1-"
      },
      "execution_count": 54,
      "outputs": []
    },
    {
      "cell_type": "code",
      "source": [
        "pattern1 = r\"[c,m,f]an\"\n",
        "my_regex = re.compile(pattern1)\n",
        "assert my_regex.search('can')\n",
        "assert my_regex.search('man')\n",
        "assert my_regex.search('fan')\n",
        "assert not my_regex.match('dan')\n",
        "assert not my_regex.match('ran')\n",
        "assert not my_regex.match('pan')"
      ],
      "metadata": {
        "id": "GSJCv37t-dz6"
      },
      "execution_count": 55,
      "outputs": []
    },
    {
      "cell_type": "code",
      "source": [
        "pattern1 = r\"[^b]og\"\n",
        "my_regex = re.compile(pattern1)\n",
        "assert my_regex.search('hog')\n",
        "assert my_regex.search('dog')\n",
        "assert not my_regex.match('bog')"
      ],
      "metadata": {
        "id": "5nVsTlDe_Ndl"
      },
      "execution_count": 56,
      "outputs": []
    },
    {
      "cell_type": "code",
      "source": [
        "pattern1 = r\"[^a-c][n-p][a-c]\"\n",
        "my_regex = re.compile(pattern1)\n",
        "assert my_regex.search('Ana')\n",
        "assert my_regex.search('Bob')\n",
        "assert my_regex.search('Cpc')\n",
        "assert not my_regex.match('aax')\n",
        "assert not my_regex.match('bby')\n",
        "assert not my_regex.match('ccz')"
      ],
      "metadata": {
        "id": "XZfdVMfT_VHf"
      },
      "execution_count": 57,
      "outputs": []
    },
    {
      "cell_type": "code",
      "source": [
        "pattern1 = r\"..z{3}\"\n",
        "my_regex = re.compile(pattern1)\n",
        "assert my_regex.search('wazzzzzup')\n",
        "assert my_regex.search('wazzzup')\n",
        "assert not my_regex.match('wazup')"
      ],
      "metadata": {
        "id": "8H9twwOEAar9"
      },
      "execution_count": 58,
      "outputs": []
    },
    {
      "cell_type": "code",
      "source": [
        "pattern1 = r\"[a]..\"\n",
        "my_regex = re.compile(pattern1)\n",
        "assert my_regex.search('aaaabcc')\n",
        "assert my_regex.search('aabbbbc')\n",
        "assert my_regex.search('aacc')\n",
        "assert not my_regex.match('a')"
      ],
      "metadata": {
        "id": "rrJCZ_K2A-AJ"
      },
      "execution_count": 59,
      "outputs": []
    },
    {
      "cell_type": "markdown",
      "metadata": {
        "id": "1QQ0RPBH4OaJ"
      },
      "source": [
        "## Whitespace and escaped characters\n",
        "\n",
        "* Whitespace includes spaces, tabs, and newlines\n",
        "* Python uses escape characters: `\"\\t\"`, `\"\\n\"`"
      ]
    },
    {
      "cell_type": "markdown",
      "metadata": {
        "id": "0Js7Z_qp4OaJ"
      },
      "source": [
        "#### Use `\"\\n\"` for newlines"
      ]
    },
    {
      "cell_type": "code",
      "execution_count": 14,
      "metadata": {
        "colab": {
          "base_uri": "https://localhost:8080/",
          "height": 35
        },
        "id": "YcAD3e654OaJ",
        "outputId": "77ef7f0d-4b0f-4c04-c15b-6bc33f345507"
      },
      "outputs": [
        {
          "output_type": "execute_result",
          "data": {
            "text/plain": [
              "'\\n'"
            ],
            "application/vnd.google.colaboratory.intrinsic+json": {
              "type": "string"
            }
          },
          "metadata": {},
          "execution_count": 14
        }
      ],
      "source": [
        "\"\\n\""
      ]
    },
    {
      "cell_type": "code",
      "execution_count": 15,
      "metadata": {
        "colab": {
          "base_uri": "https://localhost:8080/"
        },
        "id": "Hs-JhOjl4OaK",
        "outputId": "2ac6d7cf-17ce-4b80-9197-7c14675cceae"
      },
      "outputs": [
        {
          "output_type": "stream",
          "name": "stdout",
          "text": [
            "\n",
            "\n"
          ]
        }
      ],
      "source": [
        "print('\\n')"
      ]
    },
    {
      "cell_type": "code",
      "execution_count": 16,
      "metadata": {
        "colab": {
          "base_uri": "https://localhost:8080/"
        },
        "id": "x3FxqiAG4OaK",
        "outputId": "95b7a3cd-a740-43ef-82f3-d60d0b03361a"
      },
      "outputs": [
        {
          "output_type": "stream",
          "name": "stdout",
          "text": [
            "a\n",
            "b\n"
          ]
        }
      ],
      "source": [
        "print('a\\nb')"
      ]
    },
    {
      "cell_type": "markdown",
      "metadata": {
        "id": "TNp7w9nH4OaL"
      },
      "source": [
        "#### Use `\"\\t\"` for tab"
      ]
    },
    {
      "cell_type": "code",
      "execution_count": 17,
      "metadata": {
        "colab": {
          "base_uri": "https://localhost:8080/",
          "height": 35
        },
        "id": "zQSy06fM4OaP",
        "outputId": "51a87353-28cf-4a8f-dcc1-d3c70cecc169"
      },
      "outputs": [
        {
          "output_type": "execute_result",
          "data": {
            "text/plain": [
              "'\\t'"
            ],
            "application/vnd.google.colaboratory.intrinsic+json": {
              "type": "string"
            }
          },
          "metadata": {},
          "execution_count": 17
        }
      ],
      "source": [
        "\"\\t\""
      ]
    },
    {
      "cell_type": "code",
      "execution_count": 18,
      "metadata": {
        "colab": {
          "base_uri": "https://localhost:8080/"
        },
        "id": "GU6wJ_Xx4OaQ",
        "outputId": "a3422b1a-e0c9-4ac2-a2d2-4b60bad224eb"
      },
      "outputs": [
        {
          "output_type": "stream",
          "name": "stdout",
          "text": [
            "\t\n"
          ]
        }
      ],
      "source": [
        "print('\\t')"
      ]
    },
    {
      "cell_type": "code",
      "execution_count": 19,
      "metadata": {
        "colab": {
          "base_uri": "https://localhost:8080/"
        },
        "id": "3y6vzPhV4OaQ",
        "outputId": "d6656ca3-0e92-4912-fa5e-47e8a0011a2d"
      },
      "outputs": [
        {
          "output_type": "stream",
          "name": "stdout",
          "text": [
            "a\tb\n"
          ]
        }
      ],
      "source": [
        "print('a\\tb')"
      ]
    },
    {
      "cell_type": "markdown",
      "metadata": {
        "id": "pLBOwMlj4OaQ"
      },
      "source": [
        "## Why use `r\"raw strings\"` in `regex`\n",
        "\n",
        "* Regular strings $\\rightarrow$ `\\` is for special characters: `'\\n'`, `'\\t'`\n",
        "* In regular expressions, `\\` is for\n",
        "    * Escaping: i.e. `\\.` vs. `.`\n",
        "* Without raw string, we would need \n",
        "    * `'\\\\n'`  to match a new line\n",
        "    * `'\\\\t'` to match a tab"
      ]
    },
    {
      "cell_type": "code",
      "execution_count": 20,
      "metadata": {
        "colab": {
          "base_uri": "https://localhost:8080/",
          "height": 35
        },
        "id": "D9o-OB8H4OaR",
        "outputId": "101b3fc7-e482-425f-ef20-cff4901bf745"
      },
      "outputs": [
        {
          "output_type": "execute_result",
          "data": {
            "text/plain": [
              "'\\\\n'"
            ],
            "application/vnd.google.colaboratory.intrinsic+json": {
              "type": "string"
            }
          },
          "metadata": {},
          "execution_count": 20
        }
      ],
      "source": [
        "r\"\\n\" # Raw string allow us to match newlines without the extra \\"
      ]
    },
    {
      "cell_type": "markdown",
      "metadata": {
        "id": "8_aJrrPw4OaR"
      },
      "source": [
        "## Important `match object` methods\n",
        "\n",
        "<table class=\"docutils\" border=\"1\">\n",
        "<colgroup>\n",
        "<col width=\"29%\">\n",
        "<col width=\"71%\">\n",
        "</colgroup>\n",
        "<thead valign=\"bottom\">\n",
        "<tr class=\"row-odd\"><th class=\"head\">Method/Attribute</th>\n",
        "<th class=\"head\">Purpose</th>\n",
        "</tr>\n",
        "</thead>\n",
        "<tbody valign=\"top\">\n",
        "<tr class=\"row-even\"><td><code class=\"docutils literal notranslate\"><span class=\"pre\">group()</span></code></td>\n",
        "<td>Return the string matched by the RE</td>\n",
        "</tr>\n",
        "<tr class=\"row-odd\"><td><code class=\"docutils literal notranslate\"><span class=\"pre\">start()</span></code></td>\n",
        "<td>Return the starting position of the match</td>\n",
        "</tr>\n",
        "<tr class=\"row-even\"><td><code class=\"docutils literal notranslate\"><span class=\"pre\">end()</span></code></td>\n",
        "<td>Return the ending position of the match</td>\n",
        "</tr>\n",
        "<tr class=\"row-odd\"><td><code class=\"docutils literal notranslate\"><span class=\"pre\">span()</span></code></td>\n",
        "<td>Return a tuple containing the (start, end)\n",
        "positions  of the match</td>\n",
        "</tr>\n",
        "</tbody>\n",
        "</table>"
      ]
    },
    {
      "cell_type": "code",
      "execution_count": 21,
      "metadata": {
        "colab": {
          "base_uri": "https://localhost:8080/",
          "height": 35
        },
        "id": "cQi3SMHg4OaS",
        "outputId": "9c28221a-9310-4e18-e757-6e9ae1d48cc8"
      },
      "outputs": [
        {
          "output_type": "execute_result",
          "data": {
            "text/plain": [
              "'ab'"
            ],
            "application/vnd.google.colaboratory.intrinsic+json": {
              "type": "string"
            }
          },
          "metadata": {},
          "execution_count": 21
        }
      ],
      "source": [
        "m1.group()"
      ]
    },
    {
      "cell_type": "code",
      "execution_count": 28,
      "metadata": {
        "colab": {
          "base_uri": "https://localhost:8080/"
        },
        "id": "e7NyzZPa4OaS",
        "outputId": "ccf43f34-7d24-42dc-94e8-2b15b78b5a56"
      },
      "outputs": [
        {
          "output_type": "execute_result",
          "data": {
            "text/plain": [
              "(0, 2)"
            ]
          },
          "metadata": {},
          "execution_count": 28
        }
      ],
      "source": [
        "m1.start(), m1.end()"
      ]
    },
    {
      "cell_type": "code",
      "execution_count": 24,
      "metadata": {
        "colab": {
          "base_uri": "https://localhost:8080/"
        },
        "id": "HdfwLcvq4OaT",
        "outputId": "c92461b3-1974-40b2-fdfa-1296f865587f"
      },
      "outputs": [
        {
          "output_type": "execute_result",
          "data": {
            "text/plain": [
              "(0, 2)"
            ]
          },
          "metadata": {},
          "execution_count": 24
        }
      ],
      "source": [
        "m1.span()"
      ]
    },
    {
      "cell_type": "markdown",
      "metadata": {
        "id": "v3K3DvMZ4OaT"
      },
      "source": [
        "## Be sure to check for `None`"
      ]
    },
    {
      "cell_type": "code",
      "execution_count": 25,
      "metadata": {
        "id": "avuMBCh24OaT"
      },
      "outputs": [],
      "source": [
        "m2 # example that DIDN'T match "
      ]
    },
    {
      "cell_type": "code",
      "execution_count": 26,
      "metadata": {
        "colab": {
          "base_uri": "https://localhost:8080/"
        },
        "id": "9uULwzSq4OaU",
        "outputId": "dd80c19b-4558-4b66-c74b-48aa0101c116"
      },
      "outputs": [
        {
          "output_type": "execute_result",
          "data": {
            "text/plain": [
              "True"
            ]
          },
          "metadata": {},
          "execution_count": 26
        }
      ],
      "source": [
        "m2 is None # non-matches return None"
      ]
    },
    {
      "cell_type": "code",
      "execution_count": 27,
      "metadata": {
        "colab": {
          "base_uri": "https://localhost:8080/",
          "height": 165
        },
        "id": "uEdOIQKc4OaU",
        "outputId": "0cc05add-bfe7-4264-ca93-3bdcab138cfb"
      },
      "outputs": [
        {
          "output_type": "error",
          "ename": "AttributeError",
          "evalue": "ignored",
          "traceback": [
            "\u001b[0;31m---------------------------------------------------------------------------\u001b[0m",
            "\u001b[0;31mAttributeError\u001b[0m                            Traceback (most recent call last)",
            "\u001b[0;32m<ipython-input-27-0951bace4a25>\u001b[0m in \u001b[0;36m<module>\u001b[0;34m\u001b[0m\n\u001b[0;32m----> 1\u001b[0;31m \u001b[0mm2\u001b[0m\u001b[0;34m.\u001b[0m\u001b[0mgroup\u001b[0m\u001b[0;34m(\u001b[0m\u001b[0;34m)\u001b[0m \u001b[0;31m# Oh you silly 'Nonetype' errors\u001b[0m\u001b[0;34m\u001b[0m\u001b[0;34m\u001b[0m\u001b[0m\n\u001b[0m",
            "\u001b[0;31mAttributeError\u001b[0m: 'NoneType' object has no attribute 'group'"
          ]
        }
      ],
      "source": [
        "m2.group() # Oh you silly 'Nonetype' errors"
      ]
    },
    {
      "cell_type": "markdown",
      "metadata": {
        "id": "8njF-kcv4OaU"
      },
      "source": [
        "## Solution 1\n",
        "\n",
        "Always check for `None`"
      ]
    },
    {
      "cell_type": "code",
      "execution_count": 29,
      "metadata": {
        "id": "7hptVN8U4OaU"
      },
      "outputs": [],
      "source": [
        "m2.group() if m2 else None"
      ]
    },
    {
      "cell_type": "markdown",
      "metadata": {
        "id": "VkiLS0Ia4OaV"
      },
      "source": [
        "## Solution 2\n",
        "\n",
        "Learn about the [`Maybe` monad](https://en.wikipedia.org/wiki/Monad_(functional_programming)#An_example:_Maybe). (We will tackle this in a later chapter.)"
      ]
    },
    {
      "cell_type": "markdown",
      "metadata": {
        "id": "2DFqlHgR4OaV"
      },
      "source": [
        "## Python regex methods\n",
        "\n",
        "<table class=\"docutils\" border=\"1\">\n",
        "<colgroup>\n",
        "<col width=\"28%\">\n",
        "<col width=\"72%\">\n",
        "</colgroup>\n",
        "<thead valign=\"bottom\">\n",
        "<tr class=\"row-odd\"><th class=\"head\">Method/Attribute</th>\n",
        "<th class=\"head\">Purpose</th>\n",
        "</tr>\n",
        "</thead>\n",
        "<tbody valign=\"top\">\n",
        "<tr class=\"row-even\"><td><code class=\"docutils literal notranslate\"><span class=\"pre\">match()</span></code></td>\n",
        "<td>Determine if the RE matches at the beginning\n",
        "of the string.</td>\n",
        "</tr>\n",
        "<tr class=\"row-odd\"><td><code class=\"docutils literal notranslate\"><span class=\"pre\">search()</span></code></td>\n",
        "<td>Scan through a string, looking for any\n",
        "location where this RE matches.</td>\n",
        "</tr>\n",
        "<tr class=\"row-even\"><td><code class=\"docutils literal notranslate\"><span class=\"pre\">findall()</span></code></td>\n",
        "<td>Find all substrings where the RE matches, and\n",
        "returns them as a list.</td>\n",
        "</tr>\n",
        "<tr class=\"row-odd\"><td><code class=\"docutils literal notranslate\"><span class=\"pre\">finditer()</span></code></td>\n",
        "<td>Find all substrings where the RE matches, and\n",
        "returns them as an <a class=\"reference internal\" href=\"../glossary.html#term-iterator\"><span class=\"xref std std-term\">iterator</span></a>.</td>\n",
        "</tr>\n",
        "</tbody>\n",
        "</table>\n",
        "\n",
        "**Source:** [Python documentation](https://docs.python.org/3/howto/regex.html)"
      ]
    },
    {
      "cell_type": "markdown",
      "metadata": {
        "id": "TkKHbyKr4OaV"
      },
      "source": [
        "## A better `str.replace`\n",
        "\n",
        "* Often chain many `replace` calls\n",
        "* Example `s.replace('(', '').replace(')','').replace(':', '')`\n",
        "* We can use `re.sub` to simplify."
      ]
    },
    {
      "cell_type": "code",
      "execution_count": 3,
      "metadata": {
        "colab": {
          "base_uri": "https://localhost:8080/",
          "height": 35
        },
        "id": "S3J_MslF4OaW",
        "outputId": "b340ac8a-86c8-4978-f82e-55cd75c7e3a1"
      },
      "outputs": [
        {
          "output_type": "execute_result",
          "data": {
            "text/plain": [
              "'The string has some things in it'"
            ],
            "application/vnd.google.colaboratory.intrinsic+json": {
              "type": "string"
            }
          },
          "metadata": {},
          "execution_count": 3
        }
      ],
      "source": [
        "s = \"The string (has) some: things in (it)\"\n",
        "s.replace('(', '').replace(')','').replace(':', '')"
      ]
    },
    {
      "cell_type": "code",
      "execution_count": 6,
      "metadata": {
        "colab": {
          "base_uri": "https://localhost:8080/",
          "height": 35
        },
        "id": "v9CZ6cvd4OaW",
        "outputId": "51aca03d-47aa-4b0a-dec8-13043949384e"
      },
      "outputs": [
        {
          "output_type": "execute_result",
          "data": {
            "text/plain": [
              "'The string has some things in it'"
            ],
            "application/vnd.google.colaboratory.intrinsic+json": {
              "type": "string"
            }
          },
          "metadata": {},
          "execution_count": 6
        }
      ],
      "source": [
        "re.sub(r\"[():]\", '', s)"
      ]
    },
    {
      "cell_type": "markdown",
      "metadata": {
        "id": "3KVAPP054OaW"
      },
      "source": [
        "## Substitutions with a compiled RegEx\n",
        "\n",
        "1. Compile a pattern\n",
        "2. Use `pat.sub(new_substr, s)`"
      ]
    },
    {
      "cell_type": "code",
      "execution_count": 7,
      "metadata": {
        "colab": {
          "base_uri": "https://localhost:8080/",
          "height": 35
        },
        "id": "hBEFe1aY4OaW",
        "outputId": "f0aa57c5-a774-4414-c069-3ffdfe6a1349"
      },
      "outputs": [
        {
          "output_type": "execute_result",
          "data": {
            "text/plain": [
              "'The string has some things in it'"
            ],
            "application/vnd.google.colaboratory.intrinsic+json": {
              "type": "string"
            }
          },
          "metadata": {},
          "execution_count": 7
        }
      ],
      "source": [
        "paren_or_colon = re.compile(r\"[():]\")\n",
        "paren_or_colon.sub('', s)"
      ]
    },
    {
      "cell_type": "markdown",
      "metadata": {
        "id": "cd4GMrug4OaW"
      },
      "source": [
        "## <font color=\"red\"> Exercise 4 </font>\n",
        "\n",
        "**Task:** Write and test a function that uses `re.sub` to remove all punctuation from a string.  **Hint:** Use the `punctuation` variable from the `string` module."
      ]
    },
    {
      "cell_type": "markdown",
      "metadata": {
        "id": "LdM7BjKn4OaX"
      },
      "source": [
        "## Next Up\n",
        "\n",
        "Now you should read through the rest of [RegExOne](https://regexone.com/) and put your work in [Lab 3](./lab_3_regexone.ipynb)."
      ]
    }
  ],
  "metadata": {
    "celltoolbar": "Slideshow",
    "kernelspec": {
      "display_name": "Python 3",
      "language": "python",
      "name": "python3"
    },
    "language_info": {
      "codemirror_mode": {
        "name": "ipython",
        "version": 3
      },
      "file_extension": ".py",
      "mimetype": "text/x-python",
      "name": "python",
      "nbconvert_exporter": "python",
      "pygments_lexer": "ipython3",
      "version": "3.7.2"
    },
    "varInspector": {
      "cols": {
        "lenName": 16,
        "lenType": 16,
        "lenVar": 40
      },
      "kernels_config": {
        "python": {
          "delete_cmd_postfix": "",
          "delete_cmd_prefix": "del ",
          "library": "var_list.py",
          "varRefreshCmd": "print(var_dic_list())"
        },
        "r": {
          "delete_cmd_postfix": ") ",
          "delete_cmd_prefix": "rm(",
          "library": "var_list.r",
          "varRefreshCmd": "cat(var_dic_list()) "
        }
      },
      "types_to_exclude": [
        "module",
        "function",
        "builtin_function_or_method",
        "instance",
        "_Feature"
      ],
      "window_display": false
    },
    "colab": {
      "provenance": [],
      "include_colab_link": true
    }
  },
  "nbformat": 4,
  "nbformat_minor": 0
}