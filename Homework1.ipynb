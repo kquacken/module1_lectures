{
  "nbformat": 4,
  "nbformat_minor": 0,
  "metadata": {
    "colab": {
      "name": "Untitled10.ipynb",
      "provenance": [],
      "authorship_tag": "ABX9TyMbK0sd8lEUCPWZM4wh2HHp",
      "include_colab_link": true
    },
    "kernelspec": {
      "name": "python3",
      "display_name": "Python 3"
    },
    "language_info": {
      "name": "python"
    }
  },
  "cells": [
    {
      "cell_type": "markdown",
      "metadata": {
        "id": "view-in-github",
        "colab_type": "text"
      },
      "source": [
        "<a href=\"https://colab.research.google.com/github/kquacken/module1_lectures/blob/main/Homework1.ipynb\" target=\"_parent\"><img src=\"https://colab.research.google.com/assets/colab-badge.svg\" alt=\"Open In Colab\"/></a>"
      ]
    },
    {
      "cell_type": "markdown",
      "source": [
        "Homework 1\n"
      ],
      "metadata": {
        "id": "qNnpDET84t-M"
      }
    },
    {
      "cell_type": "code",
      "execution_count": 2,
      "metadata": {
        "id": "FMfFmIHExPTQ"
      },
      "outputs": [],
      "source": [
        "import re"
      ]
    },
    {
      "cell_type": "code",
      "execution_count": 3,
      "metadata": {
        "id": "A-VvmOPP4OaI"
      },
      "outputs": [],
      "source": [
        "#Ex. 1\n",
        "pattern1 = \"abc\"\n",
        "my_regex = re.compile(pattern1)\n",
        "assert my_regex.match('abcdefg')\n",
        "assert my_regex.match('abcde')\n",
        "assert my_regex.match('abc')\n",
        "assert not my_regex.match('acb')"
      ]
    },
    {
      "cell_type": "code",
      "source": [
        "#Ex. 1.5\n",
        "pattern1 = r\"\\d\"\n",
        "my_regex = re.compile(pattern1)\n",
        "assert my_regex.search('abc123xyz')\n",
        "assert my_regex.search('define \"123\"')\n",
        "assert my_regex.search('var g = 123;')\n",
        "#assert not my_regex.match('acb')"
      ],
      "metadata": {
        "id": "43-rJDRi7zKD"
      },
      "execution_count": 4,
      "outputs": []
    },
    {
      "cell_type": "code",
      "source": [
        "#Ex. 2\n",
        "pattern1 = r\"...\\.\"\n",
        "my_regex = re.compile(pattern1)\n",
        "assert my_regex.search('cat.')\n",
        "assert my_regex.search('896.')\n",
        "assert my_regex.search('?=+.')\n",
        "assert not my_regex.match('abc1')"
      ],
      "metadata": {
        "id": "f_F3YsLZ-G1-"
      },
      "execution_count": 5,
      "outputs": []
    },
    {
      "cell_type": "code",
      "source": [
        "#Ex. 3\n",
        "pattern1 = r\"[c,m,f]an\"\n",
        "my_regex = re.compile(pattern1)\n",
        "assert my_regex.search('can')\n",
        "assert my_regex.search('man')\n",
        "assert my_regex.search('fan')\n",
        "assert not my_regex.match('dan')\n",
        "assert not my_regex.match('ran')\n",
        "assert not my_regex.match('pan')"
      ],
      "metadata": {
        "id": "GSJCv37t-dz6"
      },
      "execution_count": 6,
      "outputs": []
    },
    {
      "cell_type": "code",
      "source": [
        "#Ex. 4\n",
        "pattern1 = r\"[^b]og\"\n",
        "my_regex = re.compile(pattern1)\n",
        "assert my_regex.search('hog')\n",
        "assert my_regex.search('dog')\n",
        "assert not my_regex.match('bog')"
      ],
      "metadata": {
        "id": "5nVsTlDe_Ndl"
      },
      "execution_count": 7,
      "outputs": []
    },
    {
      "cell_type": "code",
      "source": [
        "#Ex. 5\n",
        "pattern1 = r\"[^a-c][n-p][a-c]\"\n",
        "my_regex = re.compile(pattern1)\n",
        "assert my_regex.search('Ana')\n",
        "assert my_regex.search('Bob')\n",
        "assert my_regex.search('Cpc')\n",
        "assert not my_regex.match('aax')\n",
        "assert not my_regex.match('bby')\n",
        "assert not my_regex.match('ccz')"
      ],
      "metadata": {
        "id": "XZfdVMfT_VHf"
      },
      "execution_count": 8,
      "outputs": []
    },
    {
      "cell_type": "code",
      "source": [
        "#Ex. 6\n",
        "pattern1 = r\"..z{3}\"\n",
        "my_regex = re.compile(pattern1)\n",
        "assert my_regex.search('wazzzzzup')\n",
        "assert my_regex.search('wazzzup')\n",
        "assert not my_regex.match('wazup')"
      ],
      "metadata": {
        "id": "8H9twwOEAar9"
      },
      "execution_count": 9,
      "outputs": []
    },
    {
      "cell_type": "code",
      "source": [
        "#Ex. 7\n",
        "pattern1 = r\"[a]..\"\n",
        "my_regex = re.compile(pattern1)\n",
        "assert my_regex.search('aaaabcc')\n",
        "assert my_regex.search('aabbbbc')\n",
        "assert my_regex.search('aacc')\n",
        "assert not my_regex.match('a')"
      ],
      "metadata": {
        "id": "rrJCZ_K2A-AJ"
      },
      "execution_count": 10,
      "outputs": []
    },
    {
      "cell_type": "code",
      "source": [
        "#Ex. 8\n",
        "pattern1 = r\"[^No] files?\"\n",
        "my_regex = re.compile(pattern1)\n",
        "assert my_regex.search('1 file found?')\n",
        "assert my_regex.search('2 files found?')\n",
        "assert my_regex.search('24 files found?')\n",
        "assert not my_regex.match('No files found.')"
      ],
      "metadata": {
        "id": "xF8tXLIAxbYE"
      },
      "execution_count": 12,
      "outputs": []
    },
    {
      "cell_type": "code",
      "source": [
        "#Ex. 9\n",
        "pattern1 = r\"[1-3].\\s\"\n",
        "my_regex = re.compile(pattern1)\n",
        "assert my_regex.search('1.   abc')\n",
        "assert my_regex.search('2.  abc')\n",
        "assert my_regex.search('3.           abc')\n",
        "assert not my_regex.match('4.abc')"
      ],
      "metadata": {
        "id": "cAq3J6auzHdx"
      },
      "execution_count": 13,
      "outputs": []
    },
    {
      "cell_type": "code",
      "source": [
        "#Ex. 10\n",
        "pattern1 = r\"^Mission\"\n",
        "my_regex = re.compile(pattern1)\n",
        "assert my_regex.search('Mission: successful')\n",
        "assert not my_regex.search('Last Mission: unsuccessful')\n",
        "assert not my_regex.match('Next Mission: successful upon capture of target')"
      ],
      "metadata": {
        "id": "n871Rbwq2eJq"
      },
      "execution_count": 18,
      "outputs": []
    },
    {
      "cell_type": "code",
      "source": [
        "#Ex. 11\n",
        "pattern1 = r\"(^file_........+)\\.pdf$\"\n",
        "my_regex = re.compile(pattern1)\n",
        "assert my_regex.search('file_record_transcript.pdf')\n",
        "assert my_regex.search('file_07241999.pdf')\n",
        "assert not my_regex.match('testfile_fake.pdf.tmp')"
      ],
      "metadata": {
        "id": "oPqwlKv3zouM"
      },
      "execution_count": 17,
      "outputs": []
    },
    {
      "cell_type": "code",
      "source": [
        "#Ex. 12\n",
        "pattern1 = r\"(...\\s(....))\"\n",
        "my_regex = re.compile(pattern1)\n",
        "assert my_regex.search('Jan 1987')\n",
        "assert my_regex.search('May 1969')\n",
        "assert my_regex.search('Aug 2011')"
      ],
      "metadata": {
        "id": "I2ttpD_Z2ZRs"
      },
      "execution_count": 19,
      "outputs": []
    },
    {
      "cell_type": "code",
      "source": [
        "#Ex. 13\n",
        "pattern1 = r\"(....)[\\.x](...?.)\"\n",
        "my_regex = re.compile(pattern1)\n",
        "assert my_regex.search('1280x720')\n",
        "assert my_regex.search('1920x1600')\n",
        "assert my_regex.search('1024x768')"
      ],
      "metadata": {
        "id": "_IZSSio83EVh"
      },
      "execution_count": 20,
      "outputs": []
    },
    {
      "cell_type": "code",
      "source": [
        "#Ex. 14\n",
        "pattern1 = r\"cats|dogs\"\n",
        "my_regex = re.compile(pattern1)\n",
        "assert my_regex.search('I love cats')\n",
        "assert my_regex.search('I love dogs')\n",
        "assert not my_regex.search('I love logs')\n",
        "assert not my_regex.match('I love cogs')"
      ],
      "metadata": {
        "id": "yaNzjdjw3gF_"
      },
      "execution_count": 21,
      "outputs": []
    },
    {
      "cell_type": "code",
      "source": [
        "#Ex. 15\n",
        "pattern1 = r\"\\w+\\s\"\n",
        "my_regex = re.compile(pattern1)\n",
        "assert my_regex.search('The quick brown fox jumps over the lazy dog.')\n",
        "assert my_regex.search('There were 614 instances of students getting 90.0% or above.')\n",
        "assert my_regex.search('The FCC had to censor the network for saying &$#*@!.')"
      ],
      "metadata": {
        "id": "jXAH7dQV343r"
      },
      "execution_count": 22,
      "outputs": []
    }
  ]
}